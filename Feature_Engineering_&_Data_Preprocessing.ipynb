{
  "nbformat": 4,
  "nbformat_minor": 0,
  "metadata": {
    "colab": {
      "provenance": []
    },
    "kernelspec": {
      "name": "python3",
      "display_name": "Python 3"
    },
    "language_info": {
      "name": "python"
    }
  },
  "cells": [
    {
      "cell_type": "code",
      "execution_count": 34,
      "metadata": {
        "id": "DeKK4fqITYJB"
      },
      "outputs": [],
      "source": [
        "import numpy as np\n",
        "import pandas as pd\n",
        "import seaborn as sns\n",
        "from matplotlib import pyplot as plt\n",
        "# !pip install missingno\n",
        "import missingno as msno\n",
        "from datetime import date\n",
        "from sklearn.metrics import accuracy_score\n",
        "from sklearn.impute import SimpleImputer\n",
        "from sklearn.model_selection import train_test_split\n",
        "from sklearn.neighbors import LocalOutlierFactor\n",
        "from sklearn.preprocessing import MinMaxScaler, LabelEncoder, StandardScaler, RobustScaler\n",
        "from sklearn.feature_selection import SelectKBest, f_classif\n"
      ]
    },
    {
      "cell_type": "code",
      "source": [
        "# Load the datasets\n",
        "def load_application_train():\n",
        "    data = pd.read_csv(\"application_train.csv\")\n",
        "    return data\n",
        "\n",
        "def load():\n",
        "    data = pd.read_csv(\"titanic.csv\")\n",
        "    return data"
      ],
      "metadata": {
        "id": "Ru_RtzKzUafo"
      },
      "execution_count": 35,
      "outputs": []
    },
    {
      "cell_type": "code",
      "source": [
        "# See the shape of the datasets\n",
        "df_application = load_application_train()\n",
        "print(df_application.shape)  # (307511, 122)\n",
        "\n",
        "df_titanic = load()\n",
        "print(df_titanic.shape)  # (891, 12)"
      ],
      "metadata": {
        "colab": {
          "base_uri": "https://localhost:8080/"
        },
        "id": "MhNCawC_NHzc",
        "outputId": "f69d869c-6957-4ec5-861a-6458ea969587"
      },
      "execution_count": 36,
      "outputs": [
        {
          "output_type": "stream",
          "name": "stdout",
          "text": [
            "(9692, 122)\n",
            "(891, 12)\n"
          ]
        }
      ]
    },
    {
      "cell_type": "code",
      "source": [
        "# Data Preprocessing for application_train dataset\n",
        "\n",
        "# Handle Missing Values\n",
        "# For numerical features\n",
        "num_imputer = SimpleImputer(strategy='mean')\n",
        "numerical_columns = df_application.select_dtypes(include=[np.number]).columns\n",
        "df_application[numerical_columns] = num_imputer.fit_transform(df_application[numerical_columns])\n",
        "\n",
        "# For categorical features\n",
        "cat_imputer = SimpleImputer(strategy='most_frequent')\n",
        "categorical_columns = df_application.select_dtypes(include=[object]).columns\n",
        "df_application[categorical_columns] = cat_imputer.fit_transform(df_application[categorical_columns])\n",
        "\n",
        "# Encode Categorical Variables\n",
        "label_encoder = LabelEncoder()\n",
        "for column in categorical_columns:\n",
        "    df_application[column] = label_encoder.fit_transform(df_application[column].astype(str))\n",
        "\n",
        "# Detect and Remove Outliers using LOF\n",
        "lof = LocalOutlierFactor()\n",
        "outliers = lof.fit_predict(df_application[numerical_columns])\n",
        "mask = outliers != -1\n",
        "df_application = df_application[mask]\n",
        "\n",
        "# Scale Numerical Features\n",
        "scaler = StandardScaler()\n",
        "df_application[numerical_columns] = scaler.fit_transform(df_application[numerical_columns])\n",
        "\n"
      ],
      "metadata": {
        "colab": {
          "base_uri": "https://localhost:8080/"
        },
        "id": "JQWaeQWhNRGv",
        "outputId": "09908e8b-b2cd-4ac8-c8f2-78fafce9888a"
      },
      "execution_count": 37,
      "outputs": [
        {
          "output_type": "stream",
          "name": "stderr",
          "text": [
            "<ipython-input-37-758cf0e9dc0c>:27: SettingWithCopyWarning: \n",
            "A value is trying to be set on a copy of a slice from a DataFrame.\n",
            "Try using .loc[row_indexer,col_indexer] = value instead\n",
            "\n",
            "See the caveats in the documentation: https://pandas.pydata.org/pandas-docs/stable/user_guide/indexing.html#returning-a-view-versus-a-copy\n",
            "  df_application[numerical_columns] = scaler.fit_transform(df_application[numerical_columns])\n"
          ]
        }
      ]
    },
    {
      "cell_type": "code",
      "source": [
        "# Feature Selection (if needed)\n",
        "X_application = df_application.drop('TARGET', axis=1)\n",
        "y_application = df_application['TARGET']\n",
        "\n",
        "best_features_application = SelectKBest(score_func=f_classif, k='all')\n",
        "fit_application = best_features_application.fit(X_application, y_application)\n",
        "df_scores_application = pd.DataFrame(fit_application.scores_)\n",
        "df_columns_application = pd.DataFrame(X_application.columns)\n",
        "\n",
        "feature_scores_application = pd.concat([df_columns_application, df_scores_application], axis=1)\n",
        "feature_scores_application.columns = ['Feature', 'Score']\n",
        "print(feature_scores_application)"
      ],
      "metadata": {
        "colab": {
          "base_uri": "https://localhost:8080/"
        },
        "id": "xC0Tpl6OOrrz",
        "outputId": "8c9a5baa-75ea-43db-918b-a160c6407b60"
      },
      "execution_count": 38,
      "outputs": [
        {
          "output_type": "stream",
          "name": "stdout",
          "text": [
            "                        Feature      Score\n",
            "0                    SK_ID_CURR   0.221707\n",
            "1            NAME_CONTRACT_TYPE  14.834037\n",
            "2                   CODE_GENDER  32.747388\n",
            "3                  FLAG_OWN_CAR   1.789539\n",
            "4               FLAG_OWN_REALTY   2.509070\n",
            "..                          ...        ...\n",
            "116   AMT_REQ_CREDIT_BUREAU_DAY   0.554292\n",
            "117  AMT_REQ_CREDIT_BUREAU_WEEK   0.274282\n",
            "118   AMT_REQ_CREDIT_BUREAU_MON   2.136112\n",
            "119   AMT_REQ_CREDIT_BUREAU_QRT   0.162848\n",
            "120  AMT_REQ_CREDIT_BUREAU_YEAR   0.660268\n",
            "\n",
            "[121 rows x 2 columns]\n"
          ]
        },
        {
          "output_type": "stream",
          "name": "stderr",
          "text": [
            "/usr/local/lib/python3.10/dist-packages/sklearn/feature_selection/_univariate_selection.py:112: UserWarning: Features [ 21  95 100 103 105] are constant.\n",
            "  warnings.warn(\"Features %s are constant.\" % constant_features_idx, UserWarning)\n",
            "/usr/local/lib/python3.10/dist-packages/sklearn/feature_selection/_univariate_selection.py:113: RuntimeWarning: invalid value encountered in divide\n",
            "  f = msb / msw\n"
          ]
        }
      ]
    },
    {
      "cell_type": "code",
      "source": [
        "# Final Data Preparation\n",
        "X_application = df_application.drop('TARGET', axis=1)\n",
        "y_application = df_application['TARGET']\n"
      ],
      "metadata": {
        "id": "nYIISe-hO42Q"
      },
      "execution_count": 39,
      "outputs": []
    },
    {
      "cell_type": "code",
      "source": [
        "# Data Preprocessing for titanic dataset\n",
        "\n",
        "# Handle Missing Values\n",
        "# For numerical features\n",
        "numerical_columns_titanic = df_titanic.select_dtypes(include=[np.number]).columns\n",
        "df_titanic[numerical_columns_titanic] = num_imputer.fit_transform(df_titanic[numerical_columns_titanic])\n",
        "\n",
        "# For categorical features\n",
        "categorical_columns_titanic = df_titanic.select_dtypes(include=[object]).columns\n",
        "df_titanic[categorical_columns_titanic] = cat_imputer.fit_transform(df_titanic[categorical_columns_titanic])\n",
        "\n",
        "# Encode Categorical Variables\n",
        "for column in categorical_columns_titanic:\n",
        "    df_titanic[column] = label_encoder.fit_transform(df_titanic[column].astype(str))\n",
        "\n",
        "# Detect and Remove Outliers using LOF\n",
        "outliers_titanic = lof.fit_predict(df_titanic[numerical_columns_titanic])\n",
        "mask_titanic = outliers_titanic != -1\n",
        "df_titanic = df_titanic[mask_titanic]\n",
        "\n",
        "# Scale Numerical Features\n",
        "df_titanic[numerical_columns_titanic] = scaler.fit_transform(df_titanic[numerical_columns_titanic])"
      ],
      "metadata": {
        "colab": {
          "base_uri": "https://localhost:8080/"
        },
        "id": "XLGvjFYTPDCy",
        "outputId": "505d698b-22ef-4900-e341-52151af62871"
      },
      "execution_count": 40,
      "outputs": [
        {
          "output_type": "stream",
          "name": "stderr",
          "text": [
            "<ipython-input-40-365640a19982>:22: SettingWithCopyWarning: \n",
            "A value is trying to be set on a copy of a slice from a DataFrame.\n",
            "Try using .loc[row_indexer,col_indexer] = value instead\n",
            "\n",
            "See the caveats in the documentation: https://pandas.pydata.org/pandas-docs/stable/user_guide/indexing.html#returning-a-view-versus-a-copy\n",
            "  df_titanic[numerical_columns_titanic] = scaler.fit_transform(df_titanic[numerical_columns_titanic])\n"
          ]
        }
      ]
    },
    {
      "cell_type": "code",
      "source": [
        "# Feature Selection (if needed)\n",
        "X_titanic = df_titanic.drop('Survived', axis=1)\n",
        "y_titanic = df_titanic['Survived']\n",
        "\n",
        "best_features_titanic = SelectKBest(score_func=f_classif, k='all')\n",
        "fit_titanic = best_features_titanic.fit(X_titanic, y_titanic)\n",
        "df_scores_titanic = pd.DataFrame(fit_titanic.scores_)\n",
        "df_columns_titanic = pd.DataFrame(X_titanic.columns)\n",
        "\n",
        "feature_scores_titanic = pd.concat([df_columns_titanic, df_scores_titanic], axis=1)\n",
        "feature_scores_titanic.columns = ['Feature', 'Score']\n",
        "print(feature_scores_titanic)"
      ],
      "metadata": {
        "colab": {
          "base_uri": "https://localhost:8080/"
        },
        "id": "TyHcg_7pPFTI",
        "outputId": "1a8c4fc1-9361-41f4-af58-042c8926c363"
      },
      "execution_count": 41,
      "outputs": [
        {
          "output_type": "stream",
          "name": "stdout",
          "text": [
            "        Feature       Score\n",
            "0   PassengerId    0.289820\n",
            "1        Pclass   86.048540\n",
            "2          Name    2.787366\n",
            "3           Sex  324.103107\n",
            "4           Age    6.483032\n",
            "5         SibSp    2.180161\n",
            "6         Parch    5.746599\n",
            "7        Ticket   22.830404\n",
            "8          Fare   55.558396\n",
            "9         Cabin   31.375437\n",
            "10     Embarked   19.793207\n"
          ]
        }
      ]
    },
    {
      "cell_type": "code",
      "source": [
        "# Final Data Preparation\n",
        "X_titanic = df_titanic.drop('Survived', axis=1)\n",
        "y_titanic = df_titanic['Survived']"
      ],
      "metadata": {
        "id": "bM4Ncg01POb1"
      },
      "execution_count": 42,
      "outputs": []
    }
  ]
}